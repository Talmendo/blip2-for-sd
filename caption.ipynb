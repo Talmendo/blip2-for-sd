{
 "cells": [
  {
   "cell_type": "markdown",
   "metadata": {},
   "source": [
    "## blip2-for-sd\n",
    "\n",
    "Simple script to make BLIP2 output image description in a format suitable for Stable Diffusion.\n",
    "\n",
    "Format followd is roughly\n",
    "`[STYLE OF PHOTO] photo of a [SUBJECT], [IMPORTANT FEATURE], [MORE DETAILS], [POSE OR ACTION], [FRAMING], [SETTING/BACKGROUND], [LIGHTING], [CAMERA ANGLE], [CAMERA PROPERTIES],in style of [PHOTOGRAPHER]`"
   ]
  },
  {
   "cell_type": "markdown",
   "metadata": {},
   "source": [
    "### Blip 2 Model\n",
    "Choose between 2.7b, which is faster and requires less VRAM or 6.7b with a bit more accuracy. Highly recommended using 6.7b for formatted captioning when possible.\n",
    "\n",
    "Loading can take a few minutes, depending on the model and your hardware."
   ]
  },
  {
   "cell_type": "code",
   "execution_count": null,
   "metadata": {},
   "outputs": [],
   "source": [
    "from importlib import reload\n",
    "from caption_for_sd import load_model\n",
    "\n",
    "# \"Salesforce/blip2-opt-2.7b\"\n",
    "# \"Salesforce/blip2-opt-6.7b-coco\"\n",
    "\n",
    "model, processor, device = load_model(\"Salesforce/blip2-opt-6.7b-coco\")"
   ]
  },
  {
   "cell_type": "markdown",
   "metadata": {},
   "source": [
    "### Configuration"
   ]
  },
  {
   "cell_type": "code",
   "execution_count": null,
   "metadata": {},
   "outputs": [],
   "source": [
    "config = {\n",
    "  \"max_length\": 15,             # not the total max length, but the max length per prompt part\n",
    "  \"min_length\": 0,\n",
    "  \"top_k\": 30,\n",
    "  \"top_p\": 0.92,\n",
    "  \"num_beams\": 4,\n",
    "  \"repetition_penalty\": 1.5,\n",
    "  \"max_repititions\": 2\n",
    "}"
   ]
  },
  {
   "cell_type": "markdown",
   "metadata": {},
   "source": [
    "### Test the config"
   ]
  },
  {
   "cell_type": "code",
   "execution_count": null,
   "metadata": {},
   "outputs": [],
   "source": [
    "import ipyplot\n",
    "import caption_for_sd\n",
    "from importlib import reload\n",
    "\n",
    "reload(caption_for_sd)\n",
    "\n",
    "test_images, test_captions = caption_for_sd.CaptionForSD(model, processor, device, config=config).test()\n",
    "ipyplot.plot_images(test_images, max_images=2, img_width=250, custom_texts=test_captions)"
   ]
  },
  {
   "cell_type": "markdown",
   "metadata": {},
   "source": [
    "### Run\n",
    "Set the root path for your images. Note that this should only contain subfolders, which name is the base prompt used for the images inside.\n",
    "\n",
    "#### Example:\n",
    "`path = \"./dataset/\"`\n",
    "\n",
    "`./dataset contains:`\n",
    "\n",
    "`./dataset/photo of a woman/[images here]`\n",
    "\n",
    "`./dataset/drawing of a cat/[images here]`"
   ]
  },
  {
   "cell_type": "code",
   "execution_count": null,
   "metadata": {},
   "outputs": [],
   "source": [
    "path = \"\"\n",
    "\n",
    "import caption_for_sd\n",
    "reload(caption_for_sd)\n",
    "caption_for_sd.CaptionForSD(model, processor, device, config=config).run(path)"
   ]
  }
 ],
 "metadata": {
  "kernelspec": {
   "display_name": ".venv",
   "language": "python",
   "name": "python3"
  },
  "language_info": {
   "codemirror_mode": {
    "name": "ipython",
    "version": 3
   },
   "file_extension": ".py",
   "mimetype": "text/x-python",
   "name": "python",
   "nbconvert_exporter": "python",
   "pygments_lexer": "ipython3",
   "version": "3.9.17"
  },
  "orig_nbformat": 4
 },
 "nbformat": 4,
 "nbformat_minor": 2
}
